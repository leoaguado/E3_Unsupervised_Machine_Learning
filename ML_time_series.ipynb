{
 "cells": [
  {
   "cell_type": "markdown",
   "id": "df13b8a9",
   "metadata": {},
   "source": [
    "# Time Series - ML Prediction\n",
    "\n",
    "Using the dataset obtained from the Kaggle competition: https://www.kaggle.com/competitions/nuclio-dsc-str-1124\n",
    "\n",
    "In this competition we will apply all the theoretical knowledge of Time Series and practice pandas and XGBoost with over 400 Time Series."
   ]
  },
  {
   "cell_type": "markdown",
   "id": "beea246f",
   "metadata": {},
   "source": [
    "## 1. Initialization"
   ]
  },
  {
   "cell_type": "code",
   "execution_count": 1,
   "id": "b46599ec",
   "metadata": {},
   "outputs": [],
   "source": [
    "import pandas as pd\n",
    "import numpy as np"
   ]
  },
  {
   "cell_type": "code",
   "execution_count": 5,
   "id": "d604a22f",
   "metadata": {},
   "outputs": [],
   "source": [
    "df = pd.read_csv('./ts_kaggle_train.csv', index_col = 0)"
   ]
  },
  {
   "cell_type": "code",
   "execution_count": 6,
   "id": "18128f4e",
   "metadata": {},
   "outputs": [
    {
     "data": {
      "application/vnd.microsoft.datawrangler.viewer.v0+json": {
       "columns": [
        {
         "name": "index",
         "rawType": "int64",
         "type": "integer"
        },
        {
         "name": "date",
         "rawType": "object",
         "type": "string"
        },
        {
         "name": "unique_id",
         "rawType": "object",
         "type": "string"
        },
        {
         "name": "city_id",
         "rawType": "int64",
         "type": "integer"
        },
        {
         "name": "shop_id",
         "rawType": "int64",
         "type": "integer"
        },
        {
         "name": "item_category_id",
         "rawType": "int64",
         "type": "integer"
        },
        {
         "name": "item_id",
         "rawType": "int64",
         "type": "integer"
        },
        {
         "name": "monthly_average_price",
         "rawType": "float64",
         "type": "float"
        },
        {
         "name": "monthly_sales",
         "rawType": "float64",
         "type": "float"
        }
       ],
       "ref": "72499408-1864-4e2f-bcc9-42663eb1616d",
       "rows": [
        [
         "0",
         "2013-01-31",
         "12_11365",
         "16",
         "12",
         "9",
         "11365",
         "1511.5126262623332",
         "30.0"
        ],
        [
         "1",
         "2013-01-31",
         "12_11369",
         "16",
         "12",
         "9",
         "11369",
         "572.7152777778333",
         "30.0"
        ],
        [
         "2",
         "2013-01-31",
         "12_11370",
         "16",
         "12",
         "9",
         "11370",
         "699.7767857143125",
         "30.0"
        ],
        [
         "3",
         "2013-01-31",
         "12_11373",
         "16",
         "12",
         "9",
         "11373",
         "548.9",
         "6.0"
        ],
        [
         "4",
         "2013-01-31",
         "12_12231",
         "16",
         "12",
         "49",
         "12231",
         "350.0",
         "3.0"
        ]
       ],
       "shape": {
        "columns": 8,
        "rows": 5
       }
      },
      "text/html": [
       "<div>\n",
       "<style scoped>\n",
       "    .dataframe tbody tr th:only-of-type {\n",
       "        vertical-align: middle;\n",
       "    }\n",
       "\n",
       "    .dataframe tbody tr th {\n",
       "        vertical-align: top;\n",
       "    }\n",
       "\n",
       "    .dataframe thead th {\n",
       "        text-align: right;\n",
       "    }\n",
       "</style>\n",
       "<table border=\"1\" class=\"dataframe\">\n",
       "  <thead>\n",
       "    <tr style=\"text-align: right;\">\n",
       "      <th></th>\n",
       "      <th>date</th>\n",
       "      <th>unique_id</th>\n",
       "      <th>city_id</th>\n",
       "      <th>shop_id</th>\n",
       "      <th>item_category_id</th>\n",
       "      <th>item_id</th>\n",
       "      <th>monthly_average_price</th>\n",
       "      <th>monthly_sales</th>\n",
       "    </tr>\n",
       "  </thead>\n",
       "  <tbody>\n",
       "    <tr>\n",
       "      <th>0</th>\n",
       "      <td>2013-01-31</td>\n",
       "      <td>12_11365</td>\n",
       "      <td>16</td>\n",
       "      <td>12</td>\n",
       "      <td>9</td>\n",
       "      <td>11365</td>\n",
       "      <td>1511.512626</td>\n",
       "      <td>30.0</td>\n",
       "    </tr>\n",
       "    <tr>\n",
       "      <th>1</th>\n",
       "      <td>2013-01-31</td>\n",
       "      <td>12_11369</td>\n",
       "      <td>16</td>\n",
       "      <td>12</td>\n",
       "      <td>9</td>\n",
       "      <td>11369</td>\n",
       "      <td>572.715278</td>\n",
       "      <td>30.0</td>\n",
       "    </tr>\n",
       "    <tr>\n",
       "      <th>2</th>\n",
       "      <td>2013-01-31</td>\n",
       "      <td>12_11370</td>\n",
       "      <td>16</td>\n",
       "      <td>12</td>\n",
       "      <td>9</td>\n",
       "      <td>11370</td>\n",
       "      <td>699.776786</td>\n",
       "      <td>30.0</td>\n",
       "    </tr>\n",
       "    <tr>\n",
       "      <th>3</th>\n",
       "      <td>2013-01-31</td>\n",
       "      <td>12_11373</td>\n",
       "      <td>16</td>\n",
       "      <td>12</td>\n",
       "      <td>9</td>\n",
       "      <td>11373</td>\n",
       "      <td>548.900000</td>\n",
       "      <td>6.0</td>\n",
       "    </tr>\n",
       "    <tr>\n",
       "      <th>4</th>\n",
       "      <td>2013-01-31</td>\n",
       "      <td>12_12231</td>\n",
       "      <td>16</td>\n",
       "      <td>12</td>\n",
       "      <td>49</td>\n",
       "      <td>12231</td>\n",
       "      <td>350.000000</td>\n",
       "      <td>3.0</td>\n",
       "    </tr>\n",
       "  </tbody>\n",
       "</table>\n",
       "</div>"
      ],
      "text/plain": [
       "         date unique_id  city_id  shop_id  item_category_id  item_id  \\\n",
       "0  2013-01-31  12_11365       16       12                 9    11365   \n",
       "1  2013-01-31  12_11369       16       12                 9    11369   \n",
       "2  2013-01-31  12_11370       16       12                 9    11370   \n",
       "3  2013-01-31  12_11373       16       12                 9    11373   \n",
       "4  2013-01-31  12_12231       16       12                49    12231   \n",
       "\n",
       "   monthly_average_price  monthly_sales  \n",
       "0            1511.512626           30.0  \n",
       "1             572.715278           30.0  \n",
       "2             699.776786           30.0  \n",
       "3             548.900000            6.0  \n",
       "4             350.000000            3.0  "
      ]
     },
     "execution_count": 6,
     "metadata": {},
     "output_type": "execute_result"
    }
   ],
   "source": [
    "df.head()"
   ]
  },
  {
   "cell_type": "code",
   "execution_count": 7,
   "id": "2bdbe384",
   "metadata": {},
   "outputs": [
    {
     "data": {
      "text/plain": [
       "(14484, 8)"
      ]
     },
     "execution_count": 7,
     "metadata": {},
     "output_type": "execute_result"
    }
   ],
   "source": [
    "df.shape"
   ]
  },
  {
   "cell_type": "code",
   "execution_count": 8,
   "id": "30160e2a",
   "metadata": {},
   "outputs": [
    {
     "name": "stdout",
     "output_type": "stream",
     "text": [
      "<class 'pandas.core.frame.DataFrame'>\n",
      "Index: 14484 entries, 0 to 14483\n",
      "Data columns (total 8 columns):\n",
      " #   Column                 Non-Null Count  Dtype  \n",
      "---  ------                 --------------  -----  \n",
      " 0   date                   14484 non-null  object \n",
      " 1   unique_id              14484 non-null  object \n",
      " 2   city_id                14484 non-null  int64  \n",
      " 3   shop_id                14484 non-null  int64  \n",
      " 4   item_category_id       14484 non-null  int64  \n",
      " 5   item_id                14484 non-null  int64  \n",
      " 6   monthly_average_price  13262 non-null  float64\n",
      " 7   monthly_sales          13756 non-null  float64\n",
      "dtypes: float64(2), int64(4), object(2)\n",
      "memory usage: 1018.4+ KB\n"
     ]
    }
   ],
   "source": [
    "df.info()"
   ]
  }
 ],
 "metadata": {
  "kernelspec": {
   "display_name": "Python 3",
   "language": "python",
   "name": "python3"
  },
  "language_info": {
   "codemirror_mode": {
    "name": "ipython",
    "version": 3
   },
   "file_extension": ".py",
   "mimetype": "text/x-python",
   "name": "python",
   "nbconvert_exporter": "python",
   "pygments_lexer": "ipython3",
   "version": "3.10.2"
  }
 },
 "nbformat": 4,
 "nbformat_minor": 5
}
